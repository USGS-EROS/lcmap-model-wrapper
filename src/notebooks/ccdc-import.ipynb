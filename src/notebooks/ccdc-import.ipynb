{
 "cells": [
  {
   "cell_type": "code",
   "execution_count": 2,
   "metadata": {
    "collapsed": false
   },
   "outputs": [],
   "source": [
    "import numpy as np\n",
    "import ccdc"
   ]
  },
  {
   "cell_type": "code",
   "execution_count": 3,
   "metadata": {
    "collapsed": false
   },
   "outputs": [],
   "source": [
    "# pseudo-sample of data... three bands + time\n",
    "rs = np.array(range(0,100,10))\n",
    "gs = np.array(range(0,1000,100))\n",
    "bs = np.array(range(0,10000,1000))\n",
    "ms = np.array(range(0,10), dtype=np.uint8)\n",
    "ts = np.array(range(0,10), dtype=np.long)\n",
    "\n",
    "# put the nth element of each array together\n",
    "xs = np.dstack((rs,gs,bs,ts))"
   ]
  },
  {
   "cell_type": "code",
   "execution_count": 4,
   "metadata": {
    "collapsed": false
   },
   "outputs": [
    {
     "data": {
      "text/plain": [
       "[{'c1': 1, 'c2': 2, 'c3': 3, 'start': 0, 'stop': 0},\n",
       " {'c1': 11, 'c2': 12, 'c3': 13, 'start': 10, 'stop': 10},\n",
       " {'c1': 21, 'c2': 22, 'c3': 23, 'start': 20, 'stop': 20},\n",
       " {'c1': 31, 'c2': 32, 'c3': 33, 'start': 30, 'stop': 30},\n",
       " {'c1': 41, 'c2': 42, 'c3': 43, 'start': 40, 'stop': 40},\n",
       " {'c1': 51, 'c2': 52, 'c3': 53, 'start': 50, 'stop': 50}]"
      ]
     },
     "execution_count": 4,
     "metadata": {},
     "output_type": "execute_result"
    }
   ],
   "source": [
    "results = ccdc.initialize(rs, gs, bs, ms, ts)\n",
    "results"
   ]
  }
 ],
 "metadata": {
  "kernelspec": {
   "display_name": "Python 3",
   "language": "python",
   "name": "python3"
  },
  "language_info": {
   "codemirror_mode": {
    "name": "ipython",
    "version": 3
   },
   "file_extension": ".py",
   "mimetype": "text/x-python",
   "name": "python",
   "nbconvert_exporter": "python",
   "pygments_lexer": "ipython3",
   "version": "3.5.1"
  }
 },
 "nbformat": 4,
 "nbformat_minor": 0
}
