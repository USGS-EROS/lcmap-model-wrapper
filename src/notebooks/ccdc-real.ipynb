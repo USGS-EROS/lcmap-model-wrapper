{
 "cells": [
  {
   "cell_type": "code",
   "execution_count": 2,
   "metadata": {
    "collapsed": true
   },
   "outputs": [],
   "source": [
    "import numpy as np\n",
    "import ctypes"
   ]
  },
  {
   "cell_type": "code",
   "execution_count": 3,
   "metadata": {
    "collapsed": false
   },
   "outputs": [],
   "source": [
    "shared = ctypes.CDLL(\"../../build/ccdc.so\")"
   ]
  },
  {
   "cell_type": "code",
   "execution_count": 4,
   "metadata": {
    "collapsed": false
   },
   "outputs": [
    {
     "ename": "ArgumentError",
     "evalue": "argument 2: <class 'TypeError'>: Don't know how to convert parameter 2",
     "output_type": "error",
     "traceback": [
      "\u001b[1;31m---------------------------------------------------------------------------\u001b[0m",
      "\u001b[1;31mArgumentError\u001b[0m                             Traceback (most recent call last)",
      "\u001b[1;32m<ipython-input-4-c703018207e4>\u001b[0m in \u001b[0;36m<module>\u001b[1;34m()\u001b[0m\n\u001b[1;32m----> 1\u001b[1;33m \u001b[0mshared\u001b[0m\u001b[1;33m.\u001b[0m\u001b[0mget_args\u001b[0m\u001b[1;33m(\u001b[0m\u001b[1;36m1\u001b[0m\u001b[1;33m,\u001b[0m \u001b[1;33m[\u001b[0m\u001b[1;34m\"test\"\u001b[0m\u001b[1;33m]\u001b[0m\u001b[1;33m,\u001b[0m \u001b[1;32mNone\u001b[0m\u001b[1;33m,\u001b[0m \u001b[1;32mNone\u001b[0m\u001b[1;33m,\u001b[0m \u001b[1;32mNone\u001b[0m\u001b[1;33m,\u001b[0m \u001b[1;32mNone\u001b[0m\u001b[1;33m,\u001b[0m \u001b[1;32mNone\u001b[0m\u001b[1;33m,\u001b[0m \u001b[1;32mNone\u001b[0m\u001b[1;33m,\u001b[0m \u001b[1;32mNone\u001b[0m\u001b[1;33m)\u001b[0m\u001b[1;33m\u001b[0m\u001b[0m\n\u001b[0m",
      "\u001b[1;31mArgumentError\u001b[0m: argument 2: <class 'TypeError'>: Don't know how to convert parameter 2"
     ]
    }
   ],
   "source": [
    "shared.get_args(1, [\"test\"], None, None, None, None, None, None, None)"
   ]
  },
  {
   "cell_type": "code",
   "execution_count": 4,
   "metadata": {
    "collapsed": false
   },
   "outputs": [],
   "source": [
    "class Result(ctypes.Structure):\n",
    "    _fields_ = [(\"start\", ctypes.c_int),\n",
    "                (\"stop\", ctypes.c_int),\n",
    "                (\"c1\", ctypes.c_int),\n",
    "                (\"c2\", ctypes.c_int),\n",
    "                (\"c3\", ctypes.c_int)]\n"
   ]
  },
  {
   "cell_type": "code",
   "execution_count": 6,
   "metadata": {
    "collapsed": true
   },
   "outputs": [],
   "source": [
    "def to_dict(r):\n",
    "    return dict((f, getattr(r, f)) for f, _ in r._fields_)"
   ]
  },
  {
   "cell_type": "code",
   "execution_count": 7,
   "metadata": {
    "collapsed": false
   },
   "outputs": [],
   "source": [
    "# pseudo-sample of data... three bands + time\n",
    "rs = np.array(range(0,100,10))\n",
    "gs = np.array(range(0,1000,100))\n",
    "bs = np.array(range(0,10000,1000))\n",
    "ms = np.array(range(0,10), dtype=np.uint8)\n",
    "ts = np.array(range(0,10), dtype=np.long)\n",
    "\n",
    "# put the nth element of each array together\n",
    "xs = np.dstack((rs,gs,bs,ts))"
   ]
  },
  {
   "cell_type": "code",
   "execution_count": 8,
   "metadata": {
    "collapsed": false
   },
   "outputs": [],
   "source": [
    "results = initialize(rs, gs, bs, ms, ts)"
   ]
  },
  {
   "cell_type": "code",
   "execution_count": 9,
   "metadata": {
    "collapsed": false
   },
   "outputs": [
    {
     "data": {
      "text/plain": [
       "[{'c1': 1, 'c2': 2, 'c3': 3, 'start': 0, 'stop': 0},\n",
       " {'c1': 11, 'c2': 12, 'c3': 13, 'start': 10, 'stop': 10},\n",
       " {'c1': 21, 'c2': 22, 'c3': 23, 'start': 20, 'stop': 20},\n",
       " {'c1': 31, 'c2': 32, 'c3': 33, 'start': 30, 'stop': 30},\n",
       " {'c1': 41, 'c2': 42, 'c3': 43, 'start': 40, 'stop': 40},\n",
       " {'c1': 51, 'c2': 52, 'c3': 53, 'start': 50, 'stop': 50}]"
      ]
     },
     "execution_count": 9,
     "metadata": {},
     "output_type": "execute_result"
    }
   ],
   "source": [
    "results"
   ]
  }
 ],
 "metadata": {
  "kernelspec": {
   "display_name": "Python 3",
   "language": "python",
   "name": "python3"
  },
  "language_info": {
   "codemirror_mode": {
    "name": "ipython",
    "version": 3
   },
   "file_extension": ".py",
   "mimetype": "text/x-python",
   "name": "python",
   "nbconvert_exporter": "python",
   "pygments_lexer": "ipython3",
   "version": "3.5.1"
  }
 },
 "nbformat": 4,
 "nbformat_minor": 0
}
