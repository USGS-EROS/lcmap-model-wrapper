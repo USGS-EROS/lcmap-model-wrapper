{
 "cells": [
  {
   "cell_type": "markdown",
   "metadata": {},
   "source": [
    "# NDVI Example\n",
    "\n",
    "We start as usual, by including the LCMAP Python Client, in order to retrieve Landsat data and invoke a sample model."
   ]
  },
  {
   "cell_type": "code",
   "execution_count": 1,
   "metadata": {
    "collapsed": false,
    "scrolled": false
   },
   "outputs": [],
   "source": [
    "from lcmap.client import Client\n",
    "import json\n",
    "client = Client();"
   ]
  },
  {
   "cell_type": "markdown",
   "metadata": {},
   "source": [
    "We specify a point and a time range that we would like to use in order to apply the NDVI function. The function is implemented in C, wrapped using Python ctypes, and packaged as a Linux container that is executed on LCMAP SEE infrastructure."
   ]
  },
  {
   "cell_type": "code",
   "execution_count": 2,
   "metadata": {
    "collapsed": true
   },
   "outputs": [],
   "source": [
    "x = -2062080\n",
    "y =  2952960\n",
    "t1, t2 = \"2002-05-01\", \"2003-01-01\""
   ]
  },
  {
   "cell_type": "markdown",
   "metadata": {},
   "source": [
    "### Running a Model\n",
    "\n",
    "Models may be explicitly invoked using the Python client. The model wrapper retrieves Landsat data from the LCMAP REST API using the specified parameters and saves results using the LCAMP REST API too."
   ]
  },
  {
   "cell_type": "code",
   "execution_count": 3,
   "metadata": {
    "collapsed": false,
    "scrolled": true
   },
   "outputs": [],
   "source": [
    "run = client.models.ndvi.run(x, y, t1, t2)"
   ]
  },
  {
   "cell_type": "markdown",
   "metadata": {},
   "source": [
    "Now we retrieve input and outputs of execution as tiles  like so:"
   ]
  },
  {
   "cell_type": "code",
   "execution_count": 4,
   "metadata": {
    "collapsed": false,
    "scrolled": true
   },
   "outputs": [],
   "source": [
    "_, sr3 = client.data.tiles(\"LANDSAT_7/ETM/sr_band3\", x, y, t1, t2)\n",
    "_, sr4 = client.data.tiles(\"LANDSAT_7/ETM/sr_band4\", x, y, t1, t2)\n",
    "_, ndvi = client.data.tiles(\"LCMAP/SEE/NDVI\", x, y, t1, t2, unscale=True)"
   ]
  },
  {
   "cell_type": "markdown",
   "metadata": {},
   "source": [
    "Notice that the acquisition date of each tile is the same..."
   ]
  },
  {
   "cell_type": "code",
   "execution_count": 5,
   "metadata": {
    "collapsed": false
   },
   "outputs": [
    {
     "data": {
      "text/plain": [
       "('2002-05-10T05:00:00Z', '2002-05-10T05:00:00Z', '2002-05-10T10:00:00Z')"
      ]
     },
     "execution_count": 5,
     "metadata": {},
     "output_type": "execute_result"
    }
   ],
   "source": [
    "sr3[1].acquired, sr4[1].acquired, ndvi[1].acquired"
   ]
  },
  {
   "cell_type": "markdown",
   "metadata": {},
   "source": [
    "### Comparing Results\n",
    "\n",
    "Let's calculate NDVI again here and compare it against what was calculated by the C-library, they should be equal to the fourth decimal point (because of scaling)."
   ]
  },
  {
   "cell_type": "code",
   "execution_count": 6,
   "metadata": {
    "collapsed": false
   },
   "outputs": [
    {
     "data": {
      "text/plain": [
       "(0.80740370185092558, 0.80740000000000001)"
      ]
     },
     "execution_count": 6,
     "metadata": {},
     "output_type": "execute_result"
    }
   ],
   "source": [
    "a, b = sr3[1].data[0,0], sr4[1].data[0,0]\n",
    "a, b\n",
    "(b-a)/(b+a), ndvi[1].data[0,0]"
   ]
  },
  {
   "cell_type": "markdown",
   "metadata": {},
   "source": [
    "### Tile Source\n",
    "\n",
    "Let's take a look at how the source of a Landsat ARD tile compares to the source of an NDVI tile produced by the LCMAP SEE. Notice that the source of an NDVI tile is a data structure that contains information about the inputs. This is only a starting point, but it contains a few attributes that are needed for provenance. Eventually, it will include information about the version of the model, and time of production."
   ]
  },
  {
   "cell_type": "code",
   "execution_count": 7,
   "metadata": {
    "collapsed": false
   },
   "outputs": [
    {
     "data": {
      "text/plain": [
       "'LE70470272002121PAC01'"
      ]
     },
     "execution_count": 7,
     "metadata": {},
     "output_type": "execute_result"
    }
   ],
   "source": [
    "sr3[0].source"
   ]
  },
  {
   "cell_type": "code",
   "execution_count": 8,
   "metadata": {
    "collapsed": false
   },
   "outputs": [
    {
     "data": {
      "text/plain": [
       "'LE70470272002121PAC01'"
      ]
     },
     "execution_count": 8,
     "metadata": {},
     "output_type": "execute_result"
    }
   ],
   "source": [
    "sr4[0].source"
   ]
  },
  {
   "cell_type": "code",
   "execution_count": 9,
   "metadata": {
    "collapsed": false
   },
   "outputs": [
    {
     "data": {
      "text/plain": [
       "'{\"vis_acquired\": \"2002-05-10T05:00:00Z\", \"nir_y\": 2952960, \"vis_ubid\": \"LANDSAT_7/ETM/sr_band3\", \"nir_ubid\": \"LANDSAT_7/ETM/sr_band4\", \"job_id\": \"fake-job-id\", \"vis_y\": 2952960, \"vis_x\": -2062080, \"nir_x\": -2062080, \"nir_acquired\": \"2002-05-10T05:00:00Z\"}'"
      ]
     },
     "execution_count": 9,
     "metadata": {},
     "output_type": "execute_result"
    }
   ],
   "source": [
    "some_tile = ndvi[1]\n",
    "some_tile.source"
   ]
  }
 ],
 "metadata": {
  "kernelspec": {
   "display_name": "Python 3",
   "language": "python",
   "name": "python3"
  },
  "language_info": {
   "codemirror_mode": {
    "name": "ipython",
    "version": 3
   },
   "file_extension": ".py",
   "mimetype": "text/x-python",
   "name": "python",
   "nbconvert_exporter": "python",
   "pygments_lexer": "ipython3",
   "version": "3.5.2"
  }
 },
 "nbformat": 4,
 "nbformat_minor": 0
}
