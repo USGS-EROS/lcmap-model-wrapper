{
 "cells": [
  {
   "cell_type": "code",
   "execution_count": 1,
   "metadata": {
    "collapsed": false
   },
   "outputs": [],
   "source": [
    "from lcmap.client import Client\n",
    "import json"
   ]
  },
  {
   "cell_type": "code",
   "execution_count": 2,
   "metadata": {
    "collapsed": false
   },
   "outputs": [],
   "source": [
    "client = Client();"
   ]
  },
  {
   "cell_type": "code",
   "execution_count": 3,
   "metadata": {
    "collapsed": true
   },
   "outputs": [],
   "source": [
    "x, y = -1909498, 2978512\n",
    "t1, t2 = \"2013-01-01\", \"2014-01-01\""
   ]
  },
  {
   "cell_type": "code",
   "execution_count": 32,
   "metadata": {
    "collapsed": false
   },
   "outputs": [],
   "source": [
    "run = client.models.ndvi.run(x, y, t1, t2)"
   ]
  },
  {
   "cell_type": "code",
   "execution_count": 36,
   "metadata": {
    "collapsed": false
   },
   "outputs": [],
   "source": [
    "job = json.loads(run.result)"
   ]
  },
  {
   "cell_type": "code",
   "execution_count": 37,
   "metadata": {
    "collapsed": false
   },
   "outputs": [
    {
     "data": {
      "text/plain": [
       "'lcmap.ndvi'"
      ]
     },
     "execution_count": 37,
     "metadata": {},
     "output_type": "execute_result"
    }
   ],
   "source": [
    "job['model']"
   ]
  },
  {
   "cell_type": "code",
   "execution_count": 38,
   "metadata": {
    "collapsed": false
   },
   "outputs": [
    {
     "data": {
      "text/plain": [
       "[{'job_id': 'meow-job-id',\n",
       "  'nir_acquired': '2013-04-14T05:00:00Z',\n",
       "  'nir_ubid': 'LANDSAT_8/OLI_TIRS/sr_band5',\n",
       "  'nir_x': -1912320,\n",
       "  'nir_y': 2976000,\n",
       "  'vis_acquired': '2013-04-14T05:00:00Z',\n",
       "  'vis_ubid': 'LANDSAT_8/OLI_TIRS/sr_band4',\n",
       "  'vis_x': -1912320,\n",
       "  'vis_y': 2976000},\n",
       " {'job_id': 'meow-job-id',\n",
       "  'nir_acquired': '2013-04-30T05:00:00Z',\n",
       "  'nir_ubid': 'LANDSAT_8/OLI_TIRS/sr_band5',\n",
       "  'nir_x': -1912320,\n",
       "  'nir_y': 2976000,\n",
       "  'vis_acquired': '2013-04-30T05:00:00Z',\n",
       "  'vis_ubid': 'LANDSAT_8/OLI_TIRS/sr_band4',\n",
       "  'vis_x': -1912320,\n",
       "  'vis_y': 2976000},\n",
       " {'job_id': 'meow-job-id',\n",
       "  'nir_acquired': '2013-05-16T05:00:00Z',\n",
       "  'nir_ubid': 'LANDSAT_8/OLI_TIRS/sr_band5',\n",
       "  'nir_x': -1912320,\n",
       "  'nir_y': 2976000,\n",
       "  'vis_acquired': '2013-05-16T05:00:00Z',\n",
       "  'vis_ubid': 'LANDSAT_8/OLI_TIRS/sr_band4',\n",
       "  'vis_x': -1912320,\n",
       "  'vis_y': 2976000},\n",
       " {'job_id': 'meow-job-id',\n",
       "  'nir_acquired': '2013-06-01T05:00:00Z',\n",
       "  'nir_ubid': 'LANDSAT_8/OLI_TIRS/sr_band5',\n",
       "  'nir_x': -1912320,\n",
       "  'nir_y': 2976000,\n",
       "  'vis_acquired': '2013-06-01T05:00:00Z',\n",
       "  'vis_ubid': 'LANDSAT_8/OLI_TIRS/sr_band4',\n",
       "  'vis_x': -1912320,\n",
       "  'vis_y': 2976000},\n",
       " {'job_id': 'meow-job-id',\n",
       "  'nir_acquired': '2013-06-17T05:00:00Z',\n",
       "  'nir_ubid': 'LANDSAT_8/OLI_TIRS/sr_band5',\n",
       "  'nir_x': -1912320,\n",
       "  'nir_y': 2976000,\n",
       "  'vis_acquired': '2013-06-17T05:00:00Z',\n",
       "  'vis_ubid': 'LANDSAT_8/OLI_TIRS/sr_band4',\n",
       "  'vis_x': -1912320,\n",
       "  'vis_y': 2976000}]"
      ]
     },
     "execution_count": 38,
     "metadata": {},
     "output_type": "execute_result"
    }
   ],
   "source": [
    "[json.loads(j['source']) for j in (job['saved'])]"
   ]
  },
  {
   "cell_type": "code",
   "execution_count": 39,
   "metadata": {
    "collapsed": false,
    "scrolled": true
   },
   "outputs": [],
   "source": [
    "_, sr = client.data.tiles(\"LANDSAT_8/OLI_TIRS/sr_band1\", x, y, t1, t2)"
   ]
  },
  {
   "cell_type": "code",
   "execution_count": 40,
   "metadata": {
    "collapsed": false
   },
   "outputs": [],
   "source": [
    "_, ndvi = client.data.tiles(\"LCMAP/SEE/NDVI\", x, y, t1, t2, unscale=False)"
   ]
  },
  {
   "cell_type": "code",
   "execution_count": 41,
   "metadata": {
    "collapsed": false
   },
   "outputs": [
    {
     "data": {
      "text/plain": [
       "masked_array(data =\n",
       " [[1536 1250 1250 ...,    2   20   31]\n",
       " [1715 1579 1564 ...,  -19   -5   31]\n",
       " [2026 1823 1662 ...,  -34  -34   -5]\n",
       " ..., \n",
       " [-246 -219 -194 ..., 3608  389  477]\n",
       " [-162 -189 -180 ..., 2980  607  293]\n",
       " [-108 -183 -133 ..., 2828 3233  532]],\n",
       "             mask =\n",
       " False,\n",
       "       fill_value = 999999)"
      ]
     },
     "execution_count": 41,
     "metadata": {},
     "output_type": "execute_result"
    }
   ],
   "source": [
    "ndvi[0].data"
   ]
  }
 ],
 "metadata": {
  "kernelspec": {
   "display_name": "Python 3",
   "language": "python",
   "name": "python3"
  },
  "language_info": {
   "codemirror_mode": {
    "name": "ipython",
    "version": 3
   },
   "file_extension": ".py",
   "mimetype": "text/x-python",
   "name": "python",
   "nbconvert_exporter": "python",
   "pygments_lexer": "ipython3",
   "version": "3.5.1"
  }
 },
 "nbformat": 4,
 "nbformat_minor": 0
}
