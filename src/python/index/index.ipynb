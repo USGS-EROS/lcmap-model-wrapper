{
 "cells": [
  {
   "cell_type": "markdown",
   "metadata": {},
   "source": [
    "# Using a C-Library from Python\n",
    "\n",
    "This is an example of how to invoke a C-Library from Python using Landsat ARD. A scientist can use this approach to bridge the gap between a pre-compiled library and Landsat ARD retrieved from a network resource.\n",
    "\n",
    "**Models defined this way can be executed locally and are deployable to the LCMAP Science Execution Environment with minimal additional work.**\n",
    "\n",
    "As usual, we start by creating a client that can be used to retrieve Landsat ARD."
   ]
  },
  {
   "cell_type": "code",
   "execution_count": 1,
   "metadata": {
    "collapsed": false
   },
   "outputs": [],
   "source": [
    "import numpy as np\n",
    "from lcmap.client import Client\n",
    "client = Client()"
   ]
  },
  {
   "cell_type": "markdown",
   "metadata": {},
   "source": [
    "Next, we import a Python module that wraps a pre-compiled C-library."
   ]
  },
  {
   "cell_type": "code",
   "execution_count": 2,
   "metadata": {
    "collapsed": false
   },
   "outputs": [],
   "source": [
    "import index"
   ]
  },
  {
   "cell_type": "markdown",
   "metadata": {},
   "source": [
    "In order to run a model locally, we obtain some Landsat ARD."
   ]
  },
  {
   "cell_type": "code",
   "execution_count": 3,
   "metadata": {
    "collapsed": false
   },
   "outputs": [],
   "source": [
    "x, y, t1, t2 = -2062080, 2952960, \"2002-05-01\", \"2002-06-01\""
   ]
  },
  {
   "cell_type": "markdown",
   "metadata": {},
   "source": [
    "Let's take a look at the value of the upper-left most point of two tiles. The source scene is the same..."
   ]
  },
  {
   "cell_type": "code",
   "execution_count": 4,
   "metadata": {
    "collapsed": false,
    "scrolled": true
   },
   "outputs": [
    {
     "data": {
      "text/plain": [
       "(681, 451, 'LE70460282002130EDC00', 'LE70460282002130EDC00')"
      ]
     },
     "execution_count": 4,
     "metadata": {},
     "output_type": "execute_result"
    }
   ],
   "source": [
    "nspec, nir = client.data.tiles(band=\"LANDSAT_7/ETM/sr_band1\", x=x, y=y, t1=t1, t2=t2, mask=False, unscale=False)\n",
    "vspec, vis = client.data.tiles(band=\"LANDSAT_7/ETM/sr_band2\", x=x, y=y, t1=t1, t2=t2, mask=False, unscale=False)\n",
    "n1 = nir[1]\n",
    "v1 = vis[1]\n",
    "v1.data[0,0], n1.data[0,0], v1.source, n1.source"
   ]
  },
  {
   "cell_type": "markdown",
   "metadata": {},
   "source": [
    "Let's invoke the NDVI function on a single point in the near and visible tile data."
   ]
  },
  {
   "cell_type": "code",
   "execution_count": 5,
   "metadata": {
    "collapsed": false
   },
   "outputs": [
    {
     "data": {
      "text/plain": [
       "-0.2031802088022232"
      ]
     },
     "execution_count": 5,
     "metadata": {},
     "output_type": "execute_result"
    }
   ],
   "source": [
    "index.ndvi(n1.data[0,0], v1.data[0,0])"
   ]
  },
  {
   "cell_type": "markdown",
   "metadata": {},
   "source": [
    "Now, let's invoke the NDVI function defined in a C-library using both tiles. The `vndvi` function turns a point-oriented function into a tile-oriented function; this is something built into Python, not something a developer has to figure out."
   ]
  },
  {
   "cell_type": "code",
   "execution_count": 6,
   "metadata": {
    "collapsed": false
   },
   "outputs": [
    {
     "data": {
      "text/plain": [
       "array([[-0.20318021, -0.18625678, -0.21333334, ..., -0.01323427,\n",
       "        -0.0188172 ,  0.01168751],\n",
       "       [-0.19321395, -0.16383308, -0.12471994, ..., -0.02822086,\n",
       "        -0.04979643,  0.00992345],\n",
       "       [-0.14877589, -0.08978328, -0.11067452, ..., -0.02829355,\n",
       "        -0.05020728, -0.02857143],\n",
       "       ..., \n",
       "       [-0.02120536, -0.03993344,  0.05521473, ...,  0.0862069 ,\n",
       "         0.10970464,  0.02925532],\n",
       "       [ 0.0172956 , -0.02033599,  0.04140527, ...,  0.10828026,\n",
       "         0.10970464,  0.0398773 ],\n",
       "       [ 0.05394191,  0.03587444,  0.07512953, ..., -0.00175131,\n",
       "         0.21097046,  0.12624584]])"
      ]
     },
     "execution_count": 6,
     "metadata": {},
     "output_type": "execute_result"
    }
   ],
   "source": [
    "index.vndvi(n1.data, v1.data)"
   ]
  },
  {
   "cell_type": "markdown",
   "metadata": {},
   "source": [
    "As you can see, a wrapped C-library can be invoked directly from Python using Landsat ARD with a minimal amount of effort. Wrapping a C-library requires a minimal amount of code."
   ]
  }
 ],
 "metadata": {
  "kernelspec": {
   "display_name": "Python 3",
   "language": "python",
   "name": "python3"
  },
  "language_info": {
   "codemirror_mode": {
    "name": "ipython",
    "version": 3
   },
   "file_extension": ".py",
   "mimetype": "text/x-python",
   "name": "python",
   "nbconvert_exporter": "python",
   "pygments_lexer": "ipython3",
   "version": "3.5.2"
  }
 },
 "nbformat": 4,
 "nbformat_minor": 0
}
