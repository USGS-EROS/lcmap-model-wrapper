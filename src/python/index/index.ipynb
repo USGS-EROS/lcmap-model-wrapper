{
 "cells": [
  {
   "cell_type": "code",
   "execution_count": 2,
   "metadata": {
    "collapsed": false
   },
   "outputs": [],
   "source": [
    "import numpy as np\n",
    "import index\n",
    "from lcmap.client import Client\n",
    "import base64"
   ]
  },
  {
   "cell_type": "code",
   "execution_count": 3,
   "metadata": {
    "collapsed": false
   },
   "outputs": [],
   "source": [
    "client = Client()"
   ]
  },
  {
   "cell_type": "code",
   "execution_count": 18,
   "metadata": {
    "collapsed": false
   },
   "outputs": [],
   "source": [
    "x, y = -1909498, 2978512\n",
    "t1, t2 = \"2011-01-01\", \"2016-01-01\""
   ]
  },
  {
   "cell_type": "code",
   "execution_count": 19,
   "metadata": {
    "collapsed": false,
    "scrolled": true
   },
   "outputs": [],
   "source": [
    "nspec, nir = client.data.tiles(band=\"LANDSAT_8/OLI_TIRS/sr_band5\", x=x, y=y, t1=t1, t2=t2, mask=False, unscale=False)\n",
    "vspec, vis = client.data.tiles(band=\"LANDSAT_8/OLI_TIRS/sr_band4\", x=x, y=y, t1=t1, t2=t2, mask=False, unscale=False)\n",
    "n0 = nir[1]\n",
    "v0 = vis[1]"
   ]
  },
  {
   "cell_type": "code",
   "execution_count": 20,
   "metadata": {
    "collapsed": false
   },
   "outputs": [
    {
     "data": {
      "text/plain": [
       "(5112, 5293, 'LC80460272013120LGN01', 'LC80460272013120LGN01')"
      ]
     },
     "execution_count": 20,
     "metadata": {},
     "output_type": "execute_result"
    }
   ],
   "source": [
    "v0.data[64,64], n0.data[64,64], v0.source, n0.source"
   ]
  },
  {
   "cell_type": "code",
   "execution_count": 24,
   "metadata": {
    "collapsed": false
   },
   "outputs": [
    {
     "data": {
      "text/plain": [
       "array([[ 0.0317682 ,  0.02851306,  0.02851306, ...,  0.00223714,\n",
       "         0.00145747,  0.00326112],\n",
       "       [ 0.03151058,  0.03032914,  0.02910143, ...,  0.00207285,\n",
       "         0.00288049,  0.00326112],\n",
       "       [ 0.02944478,  0.03107639,  0.03043891, ...,  0.00233519,\n",
       "         0.00313739,  0.00352692],\n",
       "       ..., \n",
       "       [-0.01913158, -0.00703246, -0.00489072, ...,  0.00787792,\n",
       "         0.00972516,  0.01262626],\n",
       "       [-0.01391949, -0.00764762, -0.00727307, ...,  0.00727802,\n",
       "         0.00179511,  0.01092159],\n",
       "       [-0.01232761, -0.01079934, -0.01244968, ...,  0.00860298,\n",
       "         0.00896057,  0.01035977]])"
      ]
     },
     "execution_count": 24,
     "metadata": {},
     "output_type": "execute_result"
    }
   ],
   "source": [
    "index.vndvi(n0.data, v0.data)"
   ]
  }
 ],
 "metadata": {
  "kernelspec": {
   "display_name": "Python 3",
   "language": "python",
   "name": "python3"
  },
  "language_info": {
   "codemirror_mode": {
    "name": "ipython",
    "version": 3
   },
   "file_extension": ".py",
   "mimetype": "text/x-python",
   "name": "python",
   "nbconvert_exporter": "python",
   "pygments_lexer": "ipython3",
   "version": "3.5.1"
  }
 },
 "nbformat": 4,
 "nbformat_minor": 0
}
