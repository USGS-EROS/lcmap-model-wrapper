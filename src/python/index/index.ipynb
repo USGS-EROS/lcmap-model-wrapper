{
 "cells": [
  {
   "cell_type": "code",
   "execution_count": 1,
   "metadata": {
    "collapsed": false
   },
   "outputs": [],
   "source": [
    "import numpy as np\n",
    "import index\n",
    "from lcmap.client import Client"
   ]
  },
  {
   "cell_type": "code",
   "execution_count": 3,
   "metadata": {
    "collapsed": false
   },
   "outputs": [],
   "source": [
    "client = Client()"
   ]
  },
  {
   "cell_type": "code",
   "execution_count": 4,
   "metadata": {
    "collapsed": false
   },
   "outputs": [],
   "source": [
    "x, y = -2104320, 2991360\n",
    "t1, t2 = \"2011-01-01\", \"2016-01-01\""
   ]
  },
  {
   "cell_type": "code",
   "execution_count": 47,
   "metadata": {
    "collapsed": false,
    "scrolled": true
   },
   "outputs": [],
   "source": [
    "nspec, nir = client.data.tiles(band=\"LANDSAT_8/OLI_TIRS/sr_band1\", x=x, y=y, t1=t1, t2=t2, mask=False, unscale=False)\n",
    "vspec, vis = client.data.tiles(band=\"LANDSAT_7/ETM/sr_band2\", x=x, y=y, t1=t1, t2=t2, mask=False, unscale=False)\n",
    "n0 = nir[0]\n",
    "v0 = vis[0]"
   ]
  },
  {
   "cell_type": "code",
   "execution_count": 31,
   "metadata": {
    "collapsed": false
   },
   "outputs": [
    {
     "data": {
      "text/plain": [
       "(3480, 1101, 'LC80460272013152LGN00', 'LC80460272013152LGN00')"
      ]
     },
     "execution_count": 31,
     "metadata": {},
     "output_type": "execute_result"
    }
   ],
   "source": [
    "v0.data[0,0], n0.data[0,0], v0.source, n0.source"
   ]
  },
  {
   "cell_type": "code",
   "execution_count": 33,
   "metadata": {
    "collapsed": false
   },
   "outputs": [
    {
     "data": {
      "text/plain": [
       "array([[-0.51931894, -0.65768194, -0.7626822 , ..., -0.97893775,\n",
       "        -0.97087008, -0.88574082],\n",
       "       [-0.73303294, -0.76255983, -0.8396166 , ..., -0.9639706 ,\n",
       "        -0.95688546, -0.90430623],\n",
       "       [-0.74785256, -0.7658506 , -0.79150301, ..., -0.95883942,\n",
       "        -0.94619763, -0.87471211],\n",
       "       ..., \n",
       "       [-0.43583307, -0.44084001, -0.44084001, ..., -0.69110221,\n",
       "        -0.68398952, -0.70626348],\n",
       "       [-0.42665419, -0.43709752, -0.42468295, ..., -0.7106697 ,\n",
       "        -0.7113288 , -0.69080925],\n",
       "       [-0.37906563, -0.37773883, -0.39606324, ..., -0.74451715,\n",
       "        -0.7113288 , -0.72549021]])"
      ]
     },
     "execution_count": 33,
     "metadata": {},
     "output_type": "execute_result"
    }
   ],
   "source": [
    "index.vndvi(n0.data, v0.data)"
   ]
  },
  {
   "cell_type": "code",
   "execution_count": 3,
   "metadata": {
    "collapsed": false
   },
   "outputs": [],
   "source": [
    "nir = np.ones(9)dd\n",
    "vis = np.array(range(1,10))"
   ]
  },
  {
   "cell_type": "code",
   "execution_count": 4,
   "metadata": {
    "collapsed": false
   },
   "outputs": [],
   "source": [
    "vis.resize((3,3))\n",
    "nir.resize((3,3))"
   ]
  },
  {
   "cell_type": "code",
   "execution_count": 5,
   "metadata": {
    "collapsed": false
   },
   "outputs": [
    {
     "data": {
      "text/plain": [
       "array([[ 0.        ,  0.33333334,  0.5       ],\n",
       "       [ 0.60000002,  0.66666669,  0.71428573],\n",
       "       [ 0.75      ,  0.77777779,  0.80000001]])"
      ]
     },
     "execution_count": 5,
     "metadata": {},
     "output_type": "execute_result"
    }
   ],
   "source": [
    "vndvi = np.vectorize(index.ndvi)\n",
    "vndvi(vis, nir)"
   ]
  }
 ],
 "metadata": {
  "kernelspec": {
   "display_name": "Python 3",
   "language": "python",
   "name": "python3"
  },
  "language_info": {
   "codemirror_mode": {
    "name": "ipython",
    "version": 3
   },
   "file_extension": ".py",
   "mimetype": "text/x-python",
   "name": "python",
   "nbconvert_exporter": "python",
   "pygments_lexer": "ipython3",
   "version": "3.5.1"
  }
 },
 "nbformat": 4,
 "nbformat_minor": 0
}
