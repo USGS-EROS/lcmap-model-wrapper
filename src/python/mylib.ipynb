{
 "cells": [
  {
   "cell_type": "code",
   "execution_count": 1,
   "metadata": {
    "collapsed": true
   },
   "outputs": [],
   "source": [
    "import numpy as np\n",
    "import mylib"
   ]
  },
  {
   "cell_type": "code",
   "execution_count": 2,
   "metadata": {
    "collapsed": false
   },
   "outputs": [],
   "source": [
    "# pseudo-sample of data... three bands + time\n",
    "rs = np.array(range(0,100,10))\n",
    "gs = np.array(range(0,1000,100))\n",
    "bs = np.array(range(0,10000,1000))\n",
    "ms = np.array(range(0,10), dtype=np.uint8)\n",
    "ts = np.array(range(0,10), dtype=np.long)\n",
    "\n",
    "# put the nth element of each array together\n",
    "xs = np.dstack((rs,gs,bs,ts))"
   ]
  },
  {
   "cell_type": "code",
   "execution_count": 4,
   "metadata": {
    "collapsed": false
   },
   "outputs": [],
   "source": [
    "result = mylib.add(rs,gs,bs,ms,ts)"
   ]
  },
  {
   "cell_type": "code",
   "execution_count": 9,
   "metadata": {
    "collapsed": false
   },
   "outputs": [
    {
     "data": {
      "text/plain": [
       "[0, 1110, 2220, 3330, 4440, 5550, 6660, 7770, 8880, 9990]"
      ]
     },
     "execution_count": 9,
     "metadata": {},
     "output_type": "execute_result"
    }
   ],
   "source": [
    "list(result)"
   ]
  }
 ],
 "metadata": {
  "kernelspec": {
   "display_name": "Python 3",
   "language": "python",
   "name": "python3"
  },
  "language_info": {
   "codemirror_mode": {
    "name": "ipython",
    "version": 3
   },
   "file_extension": ".py",
   "mimetype": "text/x-python",
   "name": "python",
   "nbconvert_exporter": "python",
   "pygments_lexer": "ipython3",
   "version": "3.5.1"
  }
 },
 "nbformat": 4,
 "nbformat_minor": 0
}
